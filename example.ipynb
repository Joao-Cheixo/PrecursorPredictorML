{
 "cells": [
  {
   "cell_type": "code",
   "execution_count": 1222,
   "metadata": {
    "ExecuteTime": {
     "end_time": "2023-06-08T21:33:22.117217630Z",
     "start_time": "2023-06-08T21:33:21.806113943Z"
    }
   },
   "outputs": [],
   "source": [
    "import pandas as pd\n",
    "from rdkit import RDLogger\n",
    "\n",
    "RDLogger.DisableLog('rdApp.info')"
   ]
  },
  {
   "cell_type": "code",
   "execution_count": 1223,
   "metadata": {
    "ExecuteTime": {
     "end_time": "2023-06-08T21:33:26.392401083Z",
     "start_time": "2023-06-08T21:33:26.025808178Z"
    },
    "collapsed": false
   },
   "outputs": [],
   "source": [
    "from skmultilearn.model_selection import iterative_train_test_split\n",
    "\n",
    "dataset = pd.read_csv('final_dataset_top.csv')"
   ]
  },
  {
   "cell_type": "code",
   "execution_count": 1224,
   "metadata": {
    "ExecuteTime": {
     "end_time": "2023-06-08T21:33:30.016647500Z",
     "start_time": "2023-06-08T21:33:29.992645218Z"
    },
    "collapsed": false
   },
   "outputs": [
    {
     "data": {
      "text/plain": [
       "(            ids                                             smiles\n",
       " 0        C02344                CC1(C)[C@@H]2CC[C@@](C)(C2)[C@@H]1O\n",
       " 1        C02462                   CC(C)[C@]12CC[C@@](C)(O)[C@H]1C2\n",
       " 2        C03190       CC1(C)C2CCC1(C)[C@@H](OP(=O)(O)OP(=O)(O)O)C2\n",
       " 3        C06074                                  C=CC(=C)CCC=C(C)C\n",
       " 4        C00521                            C=C(C)[C@@H]1CC=C(C)CC1\n",
       " ...         ...                                                ...\n",
       " 1454  C00002242  C1(C(C(C(C(O1)(OC2(C(C(C(OC2(C(O[H])([H])[H])[...\n",
       " 1455  C00030216  C1(C(C(C2(C(C1([H])[H])(C3(C(C(C2([H])[H])([H]...\n",
       " 1456  C00002264  O(C1(C(C=2C(C(C1([H])[H])([H])[H])(C3(C(C(C2[H...\n",
       " 1457  C00002265  C1(C(C(C(C(O1)(OC2(C(C(C(OC2(OC3(C(C=4C(C(C3([...\n",
       " 1458  C00002260  C1(C(C(C(C(O1)(OC2(C(C(C(OC2(OC3(C(C=4C(C(C3([...\n",
       " \n",
       " [1459 rows x 2 columns],\n",
       "       C00341  C01789  C00078  C00049  C00183  C03506  C00187  C00079  C00047   \n",
       " 0        1.0     0.0     0.0     0.0     0.0     0.0     0.0     0.0     0.0  \\\n",
       " 1        1.0     0.0     0.0     0.0     0.0     0.0     0.0     0.0     0.0   \n",
       " 2        1.0     0.0     0.0     0.0     0.0     0.0     0.0     0.0     0.0   \n",
       " 3        1.0     0.0     0.0     0.0     0.0     0.0     0.0     0.0     0.0   \n",
       " 4        1.0     0.0     0.0     0.0     0.0     0.0     0.0     0.0     0.0   \n",
       " ...      ...     ...     ...     ...     ...     ...     ...     ...     ...   \n",
       " 1454     0.0     0.0     0.0     0.0     0.0     0.0     1.0     0.0     0.0   \n",
       " 1455     0.0     0.0     0.0     0.0     0.0     0.0     1.0     0.0     0.0   \n",
       " 1456     0.0     0.0     0.0     0.0     0.0     0.0     1.0     0.0     0.0   \n",
       " 1457     0.0     0.0     0.0     0.0     0.0     0.0     1.0     0.0     0.0   \n",
       " 1458     0.0     0.0     0.0     0.0     0.0     0.0     1.0     0.0     0.0   \n",
       " \n",
       "       C01852  ...  C00062  C00353  C00148  C00073  C00108  C00123  C00135   \n",
       " 0        0.0  ...     0.0     0.0     0.0     0.0     0.0     0.0     0.0  \\\n",
       " 1        0.0  ...     0.0     0.0     0.0     0.0     0.0     0.0     0.0   \n",
       " 2        0.0  ...     0.0     0.0     0.0     0.0     0.0     0.0     0.0   \n",
       " 3        0.0  ...     0.0     0.0     0.0     0.0     0.0     0.0     0.0   \n",
       " 4        0.0  ...     0.0     0.0     0.0     0.0     0.0     0.0     0.0   \n",
       " ...      ...  ...     ...     ...     ...     ...     ...     ...     ...   \n",
       " 1454     0.0  ...     0.0     0.0     0.0     0.0     0.0     0.0     0.0   \n",
       " 1455     0.0  ...     0.0     0.0     0.0     0.0     0.0     0.0     0.0   \n",
       " 1456     0.0  ...     0.0     0.0     0.0     0.0     0.0     0.0     0.0   \n",
       " 1457     0.0  ...     0.0     0.0     0.0     0.0     0.0     0.0     0.0   \n",
       " 1458     0.0  ...     0.0     0.0     0.0     0.0     0.0     0.0     0.0   \n",
       " \n",
       "       C00448  C00082  C00041  \n",
       " 0        0.0     0.0     0.0  \n",
       " 1        0.0     0.0     0.0  \n",
       " 2        0.0     0.0     0.0  \n",
       " 3        0.0     0.0     0.0  \n",
       " 4        0.0     0.0     0.0  \n",
       " ...      ...     ...     ...  \n",
       " 1454     0.0     0.0     0.0  \n",
       " 1455     0.0     0.0     0.0  \n",
       " 1456     0.0     0.0     0.0  \n",
       " 1457     0.0     0.0     0.0  \n",
       " 1458     0.0     0.0     0.0  \n",
       " \n",
       " [1459 rows x 23 columns])"
      ]
     },
     "execution_count": 1224,
     "metadata": {},
     "output_type": "execute_result"
    }
   ],
   "source": [
    "X = dataset.iloc[:, 0:2]\n",
    "y = dataset.iloc[:, 2:]\n",
    "X, y"
   ]
  },
  {
   "cell_type": "code",
   "execution_count": 1225,
   "metadata": {
    "ExecuteTime": {
     "end_time": "2023-06-08T22:08:15.024038313Z",
     "start_time": "2023-06-08T22:08:14.998962367Z"
    },
    "collapsed": false
   },
   "outputs": [],
   "source": [
    "from skmultilearn.model_selection import IterativeStratification\n",
    "\n",
    "stratifier = IterativeStratification(n_splits=2, order=2, sample_distribution_per_fold=[0.3, 0.7])\n",
    "train_indexes, test_indexes = next(stratifier.split(X, y))"
   ]
  },
  {
   "cell_type": "code",
   "execution_count": 1226,
   "metadata": {
    "ExecuteTime": {
     "end_time": "2023-06-08T22:08:15.613712882Z",
     "start_time": "2023-06-08T22:08:15.590892529Z"
    },
    "collapsed": false
   },
   "outputs": [],
   "source": [
    "dataset.iloc[train_indexes, :].to_csv('train.csv', index=False)"
   ]
  },
  {
   "cell_type": "code",
   "execution_count": 1227,
   "metadata": {
    "ExecuteTime": {
     "end_time": "2023-06-08T22:08:16.080917290Z",
     "start_time": "2023-06-08T22:08:16.077261211Z"
    },
    "collapsed": false
   },
   "outputs": [],
   "source": [
    "dataset.iloc[test_indexes, :].to_csv('test.csv', index=False)"
   ]
  },
  {
   "cell_type": "code",
   "execution_count": 1228,
   "metadata": {
    "ExecuteTime": {
     "end_time": "2023-06-08T22:08:16.660116954Z",
     "start_time": "2023-06-08T22:08:16.623631246Z"
    },
    "collapsed": false
   },
   "outputs": [],
   "source": [
    "train_dataset = dataset.iloc[train_indexes, :]\n",
    "train_dataset_X = train_dataset.iloc[:, 0:2]\n",
    "train_dataset_y = train_dataset.iloc[:, 2:]\n",
    "stratifier = IterativeStratification(n_splits=2, order=2, sample_distribution_per_fold=[0.3, 0.7])\n",
    "train_indexes, validation_indexes = next(stratifier.split(train_dataset_X, train_dataset_y))"
   ]
  },
  {
   "cell_type": "code",
   "execution_count": 1229,
   "metadata": {
    "ExecuteTime": {
     "end_time": "2023-06-08T22:08:18.203890981Z",
     "start_time": "2023-06-08T22:08:18.191967623Z"
    },
    "collapsed": false
   },
   "outputs": [],
   "source": [
    "train_dataset.iloc[train_indexes, :].to_csv('train.csv', index=False)"
   ]
  },
  {
   "cell_type": "code",
   "execution_count": 1230,
   "metadata": {
    "ExecuteTime": {
     "end_time": "2023-06-08T22:08:18.805517363Z",
     "start_time": "2023-06-08T22:08:18.792039735Z"
    },
    "collapsed": false
   },
   "outputs": [],
   "source": [
    "train_dataset.iloc[validation_indexes, :].to_csv('validation.csv', index=False)"
   ]
  },
  {
   "cell_type": "code",
   "execution_count": 1231,
   "metadata": {
    "ExecuteTime": {
     "end_time": "2023-06-08T22:08:22.397482907Z",
     "start_time": "2023-06-08T22:08:22.291011832Z"
    }
   },
   "outputs": [
    {
     "name": "stdout",
     "output_type": "stream",
     "text": [
      "2023-06-17 15:57:08,894 — INFO — Assuming multitask since y has more than one dimension. If otherwise, explicitly set the mode to 'classification' or 'regression'!\n"
     ]
    }
   ],
   "source": [
    "from deepmol.loaders import CSVLoader\n",
    "\n",
    "loader = CSVLoader(dataset_path='train.csv',\n",
    "                   smiles_field='smiles',\n",
    "                   id_field='ids',\n",
    "                   labels_fields=['C00341','C01789','C00078','C00049','C00183','C03506','C00187','C00079','C00047','C01852','C00407','C00129','C00235','C00062','C00353','C00148','C00073','C00108','C00123','C00135','C00448','C00082','C00041'],\n",
    "                   mode='auto')\n",
    "# create the dataset\n",
    "train_dataset = loader.create_dataset(sep=',', header=0)"
   ]
  },
  {
   "cell_type": "code",
   "execution_count": 1232,
   "metadata": {
    "ExecuteTime": {
     "end_time": "2023-06-08T22:07:46.131643151Z",
     "start_time": "2023-06-08T22:07:46.118065347Z"
    }
   },
   "outputs": [
    {
     "name": "stdout",
     "output_type": "stream",
     "text": [
      "2023-06-17 15:57:09,027 — INFO — Mols_shape: (714,)\n",
      "2023-06-17 15:57:09,029 — INFO — Features_shape: None\n",
      "2023-06-17 15:57:09,030 — INFO — Labels_shape: (714, 23)\n"
     ]
    },
    {
     "data": {
      "text/plain": [
       "((714,), None, (714, 23))"
      ]
     },
     "execution_count": 1232,
     "metadata": {},
     "output_type": "execute_result"
    }
   ],
   "source": [
    "train_dataset.get_shape()"
   ]
  },
  {
   "cell_type": "code",
   "execution_count": 1233,
   "metadata": {
    "ExecuteTime": {
     "end_time": "2023-06-08T22:08:25.989322492Z",
     "start_time": "2023-06-08T22:08:25.939438103Z"
    },
    "collapsed": false
   },
   "outputs": [
    {
     "name": "stdout",
     "output_type": "stream",
     "text": [
      "2023-06-17 15:57:09,418 — INFO — Assuming multitask since y has more than one dimension. If otherwise, explicitly set the mode to 'classification' or 'regression'!\n"
     ]
    }
   ],
   "source": [
    "loader = CSVLoader(dataset_path='validation.csv',\n",
    "                   smiles_field='smiles',\n",
    "                   id_field='ids',\n",
    "                   labels_fields=['C00341','C01789','C00078','C00049','C00183','C03506','C00187','C00079','C00047','C01852','C00407','C00129','C00235','C00062','C00353','C00148','C00073','C00108','C00123','C00135','C00448','C00082','C00041'],\n",
    "                   mode='auto')\n",
    "# create the dataset\n",
    "validation_dataset = loader.create_dataset(sep=',', header=0)"
   ]
  },
  {
   "cell_type": "code",
   "execution_count": 1234,
   "metadata": {
    "ExecuteTime": {
     "end_time": "2023-06-08T22:08:28.096373176Z",
     "start_time": "2023-06-08T22:08:28.038993210Z"
    },
    "collapsed": false
   },
   "outputs": [
    {
     "name": "stdout",
     "output_type": "stream",
     "text": [
      "2023-06-17 15:57:09,609 — INFO — Assuming multitask since y has more than one dimension. If otherwise, explicitly set the mode to 'classification' or 'regression'!\n"
     ]
    }
   ],
   "source": [
    "loader = CSVLoader(dataset_path='test.csv',\n",
    "                   smiles_field='smiles',\n",
    "                   id_field='ids',\n",
    "                   labels_fields=['C00341','C01789','C00078','C00049','C00183','C03506','C00187','C00079','C00047','C01852','C00407','C00129','C00235','C00062','C00353','C00148','C00073','C00108','C00123','C00135','C00448','C00082','C00041'],\n",
    "                   mode='auto')\n",
    "# create the dataset\n",
    "test_dataset = loader.create_dataset(sep=',', header=0)"
   ]
  },
  {
   "cell_type": "code",
   "execution_count": 1235,
   "metadata": {
    "ExecuteTime": {
     "end_time": "2023-06-08T22:08:29.834552437Z",
     "start_time": "2023-06-08T22:08:29.822642965Z"
    },
    "collapsed": false
   },
   "outputs": [
    {
     "name": "stdout",
     "output_type": "stream",
     "text": [
      "2023-06-17 15:57:09,829 — INFO — Mols_shape: (714,)\n",
      "2023-06-17 15:57:09,830 — INFO — Features_shape: None\n",
      "2023-06-17 15:57:09,831 — INFO — Labels_shape: (714, 23)\n",
      "2023-06-17 15:57:09,832 — INFO — Mols_shape: (436,)\n",
      "2023-06-17 15:57:09,834 — INFO — Features_shape: None\n",
      "2023-06-17 15:57:09,835 — INFO — Labels_shape: (436, 23)\n",
      "2023-06-17 15:57:09,836 — INFO — Mols_shape: (309,)\n",
      "2023-06-17 15:57:09,838 — INFO — Features_shape: None\n",
      "2023-06-17 15:57:09,839 — INFO — Labels_shape: (309, 23)\n"
     ]
    },
    {
     "data": {
      "text/plain": [
       "((309,), None, (309, 23))"
      ]
     },
     "execution_count": 1235,
     "metadata": {},
     "output_type": "execute_result"
    }
   ],
   "source": [
    "train_dataset.get_shape()\n",
    "test_dataset.get_shape()\n",
    "validation_dataset.get_shape()"
   ]
  },
  {
   "cell_type": "code",
   "execution_count": 1236,
   "metadata": {
    "ExecuteTime": {
     "end_time": "2023-06-08T22:08:32.582112234Z",
     "start_time": "2023-06-08T22:08:32.579596974Z"
    },
    "collapsed": false
   },
   "outputs": [
    {
     "name": "stdout",
     "output_type": "stream",
     "text": [
      "[ 29  14 128  13   1  17   8 198  25  40   1  13  15  22 133  35  31  30\n",
      "  31   9  48 125  12]\n"
     ]
    }
   ],
   "source": [
    "import numpy as np\n",
    "\n",
    "num_ones_per_column = np.sum(train_dataset.y == 1, axis=0)\n",
    "\n",
    "print(num_ones_per_column)"
   ]
  },
  {
   "cell_type": "code",
   "execution_count": 1237,
   "metadata": {
    "ExecuteTime": {
     "end_time": "2023-06-08T22:08:35.775718960Z",
     "start_time": "2023-06-08T22:08:35.772772442Z"
    },
    "collapsed": false
   },
   "outputs": [
    {
     "name": "stdout",
     "output_type": "stream",
     "text": [
      "[ 18   8  79   8   1  10   5 121  15  25   1   8   9  12  81  22  20  19\n",
      "  20   6  30  77   7]\n"
     ]
    }
   ],
   "source": [
    "num_ones_per_column = np.sum(test_dataset.y == 1, axis=0)\n",
    "\n",
    "print(num_ones_per_column)"
   ]
  },
  {
   "cell_type": "code",
   "execution_count": 1238,
   "metadata": {
    "ExecuteTime": {
     "end_time": "2023-06-08T22:08:37.388765656Z",
     "start_time": "2023-06-08T22:08:37.385415047Z"
    },
    "collapsed": false
   },
   "outputs": [
    {
     "name": "stdout",
     "output_type": "stream",
     "text": [
      "[13  6 55  6  0  7  4 85 11 18  0  5  7  8 57 15 14 13 14  4 21 54  5]\n"
     ]
    }
   ],
   "source": [
    "num_ones_per_column = np.sum(validation_dataset.y == 1, axis=0)\n",
    "\n",
    "print(num_ones_per_column)"
   ]
  },
  {
   "cell_type": "code",
   "execution_count": 1239,
   "metadata": {
    "ExecuteTime": {
     "end_time": "2023-06-08T22:08:39.991025479Z",
     "start_time": "2023-06-08T22:08:39.984650969Z"
    }
   },
   "outputs": [
    {
     "name": "stdout",
     "output_type": "stream",
     "text": [
      "2023-06-17 15:57:10,739 — INFO — Standardizer ChEMBLStandardizer initialized with -1 jobs.\n"
     ]
    }
   ],
   "source": [
    "from deepmol.pipeline import Pipeline\n",
    "from deepmol.feature_selection import LowVarianceFS\n",
    "from deepmol.compound_featurization import MorganFingerprint\n",
    "from deepmol.standardizer import ChEMBLStandardizer\n",
    "import numpy as np\n",
    "import random\n",
    "\n",
    "\n",
    "steps = [('basic standardizing', ChEMBLStandardizer()),\n",
    "         ('morgan fingerprints', MorganFingerprint(radius=2, size=1024)),\n",
    "         ('low variance feature selection', LowVarianceFS(threshold=0.07)),\n",
    "         ]\n",
    "pipeline = Pipeline(steps=steps, path=\"percursors_1\")"
   ]
  },
  {
   "cell_type": "code",
   "execution_count": 1240,
   "metadata": {
    "ExecuteTime": {
     "end_time": "2023-06-08T22:08:45.433895921Z",
     "start_time": "2023-06-08T22:08:41.937937334Z"
    }
   },
   "outputs": [
    {
     "name": "stderr",
     "output_type": "stream",
     "text": [
      "[15:57:15] \n",
      "\n",
      "****\n",
      "Pre-condition Violation\n",
      "RingInfo not initialized\n",
      "Violation occurred on line 52 in file /project/build/temp.linux-x86_64-cpython-39/rdkit/Code/GraphMol/RingInfo.cpp\n",
      "Failed Expression: df_init\n",
      "****\n",
      "\n"
     ]
    },
    {
     "name": "stdout",
     "output_type": "stream",
     "text": [
      "2023-06-17 15:57:15,548 — ERROR — Failed to featurize C.CC=C1CN2C3CC1C(C=O)C2Cc1c3[nH]c2ccccc12. Appending empty array\n",
      "2023-06-17 15:57:15,567 — ERROR — Exception message: Pre-condition Violation\n",
      "\tRingInfo not initialized\n",
      "\tViolation occurred on line 52 in file Code/GraphMol/RingInfo.cpp\n",
      "\tFailed Expression: df_init\n",
      "\tRDKIT: 2022.09.3\n",
      "\tBOOST: 1_78\n",
      "\n",
      "2023-06-17 15:57:15,710 — ERROR — Molecule with smiles: C.CC=C1CN2C3CC1C(C=O)C2Cc1c3[nH]c2ccccc12 removed from dataset.\n"
     ]
    },
    {
     "name": "stderr",
     "output_type": "stream",
     "text": [
      "/home/joao/anaconda3/envs/SMpercursorPredictor/lib/python3.9/site-packages/deepmol/compound_featurization/base_featurizer.py:103: VisibleDeprecationWarning: Creating an ndarray from ragged nested sequences (which is a list-or-tuple of lists-or-tuples-or ndarrays with different lengths or shapes) is deprecated. If you meant to do this, you must specify 'dtype=object' when creating the ndarray.\n",
      "  features = np.array(features)\n",
      "[15:57:20] \n",
      "\n",
      "****\n",
      "Pre-condition Violation\n",
      "RingInfo not initialized\n",
      "Violation occurred on line 52 in file /project/build/temp.linux-x86_64-cpython-39/rdkit/Code/GraphMol/RingInfo.cpp\n",
      "Failed Expression: df_init\n",
      "****\n",
      "\n"
     ]
    },
    {
     "name": "stdout",
     "output_type": "stream",
     "text": [
      "2023-06-17 15:57:20,227 — ERROR — Failed to featurize C.CC=C1CN2C3CC1C(C=O)C2Cc1c3[nH]c2ccccc12. Appending empty array\n",
      "2023-06-17 15:57:20,230 — ERROR — Exception message: Pre-condition Violation\n",
      "\tRingInfo not initialized\n",
      "\tViolation occurred on line 52 in file Code/GraphMol/RingInfo.cpp\n",
      "\tFailed Expression: df_init\n",
      "\tRDKIT: 2022.09.3\n",
      "\tBOOST: 1_78\n",
      "\n",
      "2023-06-17 15:57:20,579 — ERROR — Molecule with smiles: C.CC=C1CN2C3CC1C(C=O)C2Cc1c3[nH]c2ccccc12 removed from dataset.\n"
     ]
    },
    {
     "name": "stderr",
     "output_type": "stream",
     "text": [
      "/home/joao/anaconda3/envs/SMpercursorPredictor/lib/python3.9/site-packages/deepmol/compound_featurization/base_featurizer.py:103: VisibleDeprecationWarning: Creating an ndarray from ragged nested sequences (which is a list-or-tuple of lists-or-tuples-or ndarrays with different lengths or shapes) is deprecated. If you meant to do this, you must specify 'dtype=object' when creating the ndarray.\n",
      "  features = np.array(features)\n"
     ]
    }
   ],
   "source": [
    "train_dataset = pipeline.fit_transform(train_dataset)"
   ]
  },
  {
   "cell_type": "code",
   "execution_count": 1241,
   "metadata": {
    "ExecuteTime": {
     "end_time": "2023-06-08T22:08:46.673961795Z",
     "start_time": "2023-06-08T22:08:45.623570999Z"
    },
    "collapsed": false
   },
   "outputs": [],
   "source": [
    "validation_dataset = pipeline.transform(validation_dataset)"
   ]
  },
  {
   "cell_type": "code",
   "execution_count": 1242,
   "metadata": {
    "ExecuteTime": {
     "end_time": "2023-06-08T22:08:47.989938412Z",
     "start_time": "2023-06-08T22:08:46.685310407Z"
    }
   },
   "outputs": [],
   "source": [
    "test_dataset = pipeline.transform(test_dataset)"
   ]
  },
  {
   "cell_type": "code",
   "execution_count": 1243,
   "metadata": {
    "ExecuteTime": {
     "end_time": "2023-06-08T22:08:48.002236490Z",
     "start_time": "2023-06-08T22:08:47.992535178Z"
    }
   },
   "outputs": [
    {
     "name": "stdout",
     "output_type": "stream",
     "text": [
      "2023-06-17 15:57:26,412 — INFO — Mols_shape: (713,)\n",
      "2023-06-17 15:57:26,414 — INFO — Features_shape: (713, 128)\n",
      "2023-06-17 15:57:26,416 — INFO — Labels_shape: (713, 23)\n"
     ]
    },
    {
     "data": {
      "text/plain": [
       "((713,), (713, 128), (713, 23))"
      ]
     },
     "execution_count": 1243,
     "metadata": {},
     "output_type": "execute_result"
    }
   ],
   "source": [
    "train_dataset.get_shape()"
   ]
  },
  {
   "cell_type": "code",
   "execution_count": 1244,
   "metadata": {
    "ExecuteTime": {
     "end_time": "2023-06-08T22:09:01.834838558Z",
     "start_time": "2023-06-08T22:09:01.733547161Z"
    }
   },
   "outputs": [
    {
     "name": "stdout",
     "output_type": "stream",
     "text": [
      "2023-06-17 15:57:26,562 — INFO — Fitting 4 random models from a space of 4 possible models.\n",
      "2023-06-17 15:57:26,563 — INFO — Fitting model 1/4\n",
      "2023-06-17 15:57:26,564 — INFO — hyperparameters: {'criterion': 'gini', 'splitter': 'best'}\n",
      "2023-06-17 15:57:26,592 — INFO — Model 1/4, Metric f1_score_macro, Validation set 1: 0.585958\n",
      "2023-06-17 15:57:26,593 — INFO — \tbest_validation_score so far: 0.585958\n",
      "2023-06-17 15:57:26,594 — INFO — Fitting model 2/4\n",
      "2023-06-17 15:57:26,596 — INFO — hyperparameters: {'criterion': 'gini', 'splitter': 'random'}\n",
      "2023-06-17 15:57:26,624 — INFO — Model 2/4, Metric f1_score_macro, Validation set 2: 0.576670\n",
      "2023-06-17 15:57:26,624 — INFO — \tbest_validation_score so far: 0.585958\n",
      "2023-06-17 15:57:26,625 — INFO — Fitting model 3/4\n",
      "2023-06-17 15:57:26,628 — INFO — hyperparameters: {'criterion': 'entropy', 'splitter': 'best'}\n",
      "2023-06-17 15:57:26,655 — INFO — Model 3/4, Metric f1_score_macro, Validation set 3: 0.621552\n",
      "2023-06-17 15:57:26,656 — INFO — \tbest_validation_score so far: 0.621552\n",
      "2023-06-17 15:57:26,657 — INFO — Fitting model 4/4\n",
      "2023-06-17 15:57:26,659 — INFO — hyperparameters: {'criterion': 'entropy', 'splitter': 'random'}\n",
      "2023-06-17 15:57:26,688 — INFO — Model 4/4, Metric f1_score_macro, Validation set 4: 0.621762\n",
      "2023-06-17 15:57:26,689 — INFO — \tbest_validation_score so far: 0.621762\n",
      "2023-06-17 15:57:26,706 — INFO — Best hyperparameters: {'criterion': 'entropy', 'splitter': 'random'}\n",
      "2023-06-17 15:57:26,707 — INFO — train_score: 0.997734\n",
      "2023-06-17 15:57:26,708 — INFO — validation_score: 0.621762\n"
     ]
    },
    {
     "name": "stderr",
     "output_type": "stream",
     "text": [
      "/home/joao/anaconda3/envs/SMpercursorPredictor/lib/python3.9/site-packages/sklearn/metrics/_classification.py:1609: UndefinedMetricWarning: F-score is ill-defined and being set to 0.0 in labels with no true nor predicted samples. Use `zero_division` parameter to control this behavior.\n",
      "  _warn_prf(average, \"true nor predicted\", \"F-score is\", len(true_sum))\n",
      "/home/joao/anaconda3/envs/SMpercursorPredictor/lib/python3.9/site-packages/sklearn/metrics/_classification.py:1609: UndefinedMetricWarning: F-score is ill-defined and being set to 0.0 in labels with no true nor predicted samples. Use `zero_division` parameter to control this behavior.\n",
      "  _warn_prf(average, \"true nor predicted\", \"F-score is\", len(true_sum))\n",
      "/home/joao/anaconda3/envs/SMpercursorPredictor/lib/python3.9/site-packages/sklearn/metrics/_classification.py:1609: UndefinedMetricWarning: F-score is ill-defined and being set to 0.0 in labels with no true nor predicted samples. Use `zero_division` parameter to control this behavior.\n",
      "  _warn_prf(average, \"true nor predicted\", \"F-score is\", len(true_sum))\n",
      "/home/joao/anaconda3/envs/SMpercursorPredictor/lib/python3.9/site-packages/sklearn/metrics/_classification.py:1609: UndefinedMetricWarning: F-score is ill-defined and being set to 0.0 in labels with no true nor predicted samples. Use `zero_division` parameter to control this behavior.\n",
      "  _warn_prf(average, \"true nor predicted\", \"F-score is\", len(true_sum))\n"
     ]
    }
   ],
   "source": [
    "from sklearn.tree import DecisionTreeClassifier\n",
    "from deepmol.metrics import Metric\n",
    "from sklearn.metrics import f1_score\n",
    "from deepmol.parameter_optimization import HyperparameterOptimizerValidation\n",
    "\n",
    "\n",
    "def f1_score_macro(y_true, y_pred):\n",
    "    return f1_score(y_true, y_pred, average='macro')\n",
    "\n",
    "params_dict_svc = {\"criterion\": [\"gini\", \"entropy\"], \"splitter\": ['best', 'random']}\n",
    "optimizer = HyperparameterOptimizerValidation(DecisionTreeClassifier)\n",
    "best_dtree, best_hyperparams, all_results = optimizer.hyperparameter_search(train_dataset=train_dataset,\n",
    "                                                                          valid_dataset=validation_dataset,\n",
    "                                                                          metric=Metric(f1_score_macro),\n",
    "                                                                          maximize_metric=True,\n",
    "                                                                          n_iter_search=100,\n",
    "                                                                          params_dict=params_dict_svc,\n",
    "                                                                          model_type=\"sklearn\"\n",
    "                                                                          )"
   ]
  },
  {
   "cell_type": "code",
   "execution_count": 1245,
   "metadata": {
    "ExecuteTime": {
     "end_time": "2023-06-08T22:09:10.258448360Z",
     "start_time": "2023-06-08T22:09:10.249135405Z"
    },
    "collapsed": false
   },
   "outputs": [],
   "source": [
    "predictions = best_dtree.predict(test_dataset)\n",
    "predictions = np.array(predictions)"
   ]
  },
  {
   "cell_type": "code",
   "execution_count": 1246,
   "metadata": {
    "ExecuteTime": {
     "end_time": "2023-06-08T22:09:15.006574312Z",
     "start_time": "2023-06-08T22:09:15.001906658Z"
    },
    "collapsed": false
   },
   "outputs": [],
   "source": [
    "processed_predictions = np.zeros((test_dataset.y.shape[0], test_dataset.y.shape[1]))\n",
    "for i, prediction in enumerate(predictions):\n",
    "    result = np.where(prediction[:, 1] == 1, 1, 0)\n",
    "    processed_predictions[:, i] = result"
   ]
  },
  {
   "cell_type": "code",
   "execution_count": 1296,
   "metadata": {
    "ExecuteTime": {
     "end_time": "2023-06-08T22:09:15.767797918Z",
     "start_time": "2023-06-08T22:09:15.758033307Z"
    },
    "collapsed": false
   },
   "outputs": [
    {
     "data": {
      "text/plain": [
       "0.6869832897686894"
      ]
     },
     "execution_count": 1296,
     "metadata": {},
     "output_type": "execute_result"
    }
   ],
   "source": [
    "f1_score_macro(test_dataset.y, processed_predictions)"
   ]
  },
  {
   "cell_type": "code",
   "execution_count": 1248,
   "metadata": {},
   "outputs": [
    {
     "name": "stdout",
     "output_type": "stream",
     "text": [
      "Precision: 0.6798147635735615\n",
      "Recall: 0.7066799602770923\n",
      "Accuracy: 0.7110091743119266\n"
     ]
    }
   ],
   "source": [
    "\n",
    "from sklearn.metrics import precision_score,recall_score, accuracy_score\n",
    "\n",
    "precision = precision_score(test_dataset.y, processed_predictions, average='macro')\n",
    "recall = recall_score(test_dataset.y, processed_predictions, average='macro')\n",
    "accuracy = accuracy_score(test_dataset.y, processed_predictions)\n",
    "\n",
    "print(\"Precision:\", precision)\n",
    "print(\"Recall:\", recall)\n",
    "print(\"Accuracy:\", accuracy)\n"
   ]
  },
  {
   "cell_type": "code",
   "execution_count": 1249,
   "metadata": {},
   "outputs": [
    {
     "name": "stdout",
     "output_type": "stream",
     "text": [
      "Number of features: 128\n"
     ]
    }
   ],
   "source": [
    "selected_features = pipeline.steps[2][1].features_to_keep\n",
    "num_selected_features = len(selected_features)\n",
    "print(\"Number of features:\", num_selected_features)\n"
   ]
  },
  {
   "cell_type": "code",
   "execution_count": 1250,
   "metadata": {},
   "outputs": [
    {
     "name": "stdout",
     "output_type": "stream",
     "text": [
      "2023-06-17 15:57:28,259 — INFO — Fitting 4 random models from a space of 4 possible models.\n",
      "2023-06-17 15:57:28,260 — INFO — Fitting model 1/4\n",
      "2023-06-17 15:57:28,261 — INFO — hyperparameters: {'criterion': 'gini', 'splitter': 'best'}\n",
      "2023-06-17 15:57:28,276 — INFO — Model 1/4, Metric f1_score_macro, Validation set 1: 0.597199\n",
      "2023-06-17 15:57:28,277 — INFO — \tbest_validation_score so far: 0.597199\n",
      "2023-06-17 15:57:28,279 — INFO — Fitting model 2/4\n",
      "2023-06-17 15:57:28,281 — INFO — hyperparameters: {'criterion': 'gini', 'splitter': 'random'}\n",
      "2023-06-17 15:57:28,296 — INFO — Model 2/4, Metric f1_score_macro, Validation set 2: 0.590828\n",
      "2023-06-17 15:57:28,296 — INFO — \tbest_validation_score so far: 0.597199\n",
      "2023-06-17 15:57:28,298 — INFO — Fitting model 3/4\n",
      "2023-06-17 15:57:28,299 — INFO — hyperparameters: {'criterion': 'entropy', 'splitter': 'best'}\n",
      "2023-06-17 15:57:28,314 — INFO — Model 3/4, Metric f1_score_macro, Validation set 3: 0.585396\n",
      "2023-06-17 15:57:28,315 — INFO — \tbest_validation_score so far: 0.597199\n",
      "2023-06-17 15:57:28,317 — INFO — Fitting model 4/4\n",
      "2023-06-17 15:57:28,318 — INFO — hyperparameters: {'criterion': 'entropy', 'splitter': 'random'}\n",
      "2023-06-17 15:57:28,333 — INFO — Model 4/4, Metric f1_score_macro, Validation set 4: 0.582563\n",
      "2023-06-17 15:57:28,334 — INFO — \tbest_validation_score so far: 0.597199\n",
      "2023-06-17 15:57:28,349 — INFO — Best hyperparameters: {'criterion': 'gini', 'splitter': 'best'}\n",
      "2023-06-17 15:57:28,350 — INFO — train_score: 0.997734\n",
      "2023-06-17 15:57:28,351 — INFO — validation_score: 0.597199\n"
     ]
    },
    {
     "name": "stderr",
     "output_type": "stream",
     "text": [
      "/home/joao/anaconda3/envs/SMpercursorPredictor/lib/python3.9/site-packages/sklearn/metrics/_classification.py:1609: UndefinedMetricWarning: F-score is ill-defined and being set to 0.0 in labels with no true nor predicted samples. Use `zero_division` parameter to control this behavior.\n",
      "  _warn_prf(average, \"true nor predicted\", \"F-score is\", len(true_sum))\n",
      "/home/joao/anaconda3/envs/SMpercursorPredictor/lib/python3.9/site-packages/sklearn/metrics/_classification.py:1609: UndefinedMetricWarning: F-score is ill-defined and being set to 0.0 in labels with no true nor predicted samples. Use `zero_division` parameter to control this behavior.\n",
      "  _warn_prf(average, \"true nor predicted\", \"F-score is\", len(true_sum))\n",
      "/home/joao/anaconda3/envs/SMpercursorPredictor/lib/python3.9/site-packages/sklearn/metrics/_classification.py:1609: UndefinedMetricWarning: F-score is ill-defined and being set to 0.0 in labels with no true nor predicted samples. Use `zero_division` parameter to control this behavior.\n",
      "  _warn_prf(average, \"true nor predicted\", \"F-score is\", len(true_sum))\n",
      "/home/joao/anaconda3/envs/SMpercursorPredictor/lib/python3.9/site-packages/sklearn/metrics/_classification.py:1609: UndefinedMetricWarning: F-score is ill-defined and being set to 0.0 in labels with no true nor predicted samples. Use `zero_division` parameter to control this behavior.\n",
      "  _warn_prf(average, \"true nor predicted\", \"F-score is\", len(true_sum))\n"
     ]
    }
   ],
   "source": [
    "from sklearn.tree import ExtraTreeClassifier\n",
    "from deepmol.metrics import Metric\n",
    "from sklearn.metrics import f1_score\n",
    "from deepmol.parameter_optimization import HyperparameterOptimizerValidation\n",
    "\n",
    "\n",
    "def f1_score_macro(y_true, y_pred):\n",
    "    return f1_score(y_true, y_pred, average='macro')\n",
    "\n",
    "params_dict_svc = {\"criterion\": [\"gini\", \"entropy\"], \"splitter\": ['best', 'random']}\n",
    "optimizer = HyperparameterOptimizerValidation(ExtraTreeClassifier)\n",
    "best_extratree, best_hyperparams, all_results = optimizer.hyperparameter_search(train_dataset=train_dataset,\n",
    "                                                                          valid_dataset=validation_dataset,\n",
    "                                                                          metric=Metric(f1_score_macro),\n",
    "                                                                          maximize_metric=True,\n",
    "                                                                          n_iter_search=100,\n",
    "                                                                          params_dict=params_dict_svc,\n",
    "                                                                          model_type=\"sklearn\"\n",
    "                                                                          )"
   ]
  },
  {
   "cell_type": "code",
   "execution_count": 1304,
   "metadata": {},
   "outputs": [
    {
     "name": "stdout",
     "output_type": "stream",
     "text": [
      "0.5578000846324279\n",
      " Precision: 0.6040487758678548\n",
      " Recall: 0.5610809847637558\n",
      " Accuracy: 0.6651376146788991\n"
     ]
    },
    {
     "name": "stderr",
     "output_type": "stream",
     "text": [
      "/home/joao/anaconda3/envs/SMpercursorPredictor/lib/python3.9/site-packages/sklearn/metrics/_classification.py:1344: UndefinedMetricWarning: Precision is ill-defined and being set to 0.0 in labels with no predicted samples. Use `zero_division` parameter to control this behavior.\n",
      "  _warn_prf(average, modifier, msg_start, len(result))\n"
     ]
    }
   ],
   "source": [
    "predictions = best_extratree.predict(test_dataset)\n",
    "processed_predictions = np.zeros((test_dataset.y.shape[0], test_dataset.y.shape[1]))\n",
    "for i, prediction in enumerate(predictions):\n",
    "    result = np.where(prediction[:, 1] == 1, 1, 0)\n",
    "    processed_predictions[:, i] = result\n",
    "\n",
    "extra_tree_precision = precision_score(test_dataset.y, processed_predictions, average='macro')\n",
    "extra_tree_recall = recall_score(test_dataset.y, processed_predictions, average='macro')\n",
    "extra_tree_accuracy = accuracy_score(test_dataset.y,processed_predictions)\n",
    "\n",
    "print (f1_score_macro(test_dataset.y, processed_predictions))\n",
    "\n",
    "print(\" Precision:\", extra_tree_precision)\n",
    "print(\" Recall:\", extra_tree_recall)\n",
    "print(\" Accuracy:\", extra_tree_accuracy)\n"
   ]
  },
  {
   "cell_type": "code",
   "execution_count": 1252,
   "metadata": {},
   "outputs": [
    {
     "name": "stdout",
     "output_type": "stream",
     "text": [
      "2023-06-17 15:57:28,926 — INFO — Fitting 3 random models from a space of 3 possible models.\n",
      "2023-06-17 15:57:28,928 — INFO — Fitting model 1/3\n",
      "2023-06-17 15:57:28,929 — INFO — hyperparameters: {'criterion': 'gini'}\n",
      "2023-06-17 15:57:29,634 — INFO — Model 1/3, Metric f1_score_macro, Validation set 1: 0.644884\n",
      "2023-06-17 15:57:29,634 — INFO — \tbest_validation_score so far: 0.644884\n",
      "2023-06-17 15:57:29,635 — INFO — Fitting model 2/3\n",
      "2023-06-17 15:57:29,637 — INFO — hyperparameters: {'criterion': 'entropy'}\n"
     ]
    },
    {
     "name": "stderr",
     "output_type": "stream",
     "text": [
      "/home/joao/anaconda3/envs/SMpercursorPredictor/lib/python3.9/site-packages/sklearn/metrics/_classification.py:1609: UndefinedMetricWarning: F-score is ill-defined and being set to 0.0 in labels with no true nor predicted samples. Use `zero_division` parameter to control this behavior.\n",
      "  _warn_prf(average, \"true nor predicted\", \"F-score is\", len(true_sum))\n"
     ]
    },
    {
     "name": "stdout",
     "output_type": "stream",
     "text": [
      "2023-06-17 15:57:30,354 — INFO — Model 2/3, Metric f1_score_macro, Validation set 2: 0.641255\n",
      "2023-06-17 15:57:30,355 — INFO — \tbest_validation_score so far: 0.644884\n",
      "2023-06-17 15:57:30,356 — INFO — Fitting model 3/3\n",
      "2023-06-17 15:57:30,358 — INFO — hyperparameters: {'criterion': 'log_loss'}\n"
     ]
    },
    {
     "name": "stderr",
     "output_type": "stream",
     "text": [
      "/home/joao/anaconda3/envs/SMpercursorPredictor/lib/python3.9/site-packages/sklearn/metrics/_classification.py:1609: UndefinedMetricWarning: F-score is ill-defined and being set to 0.0 in labels with no true nor predicted samples. Use `zero_division` parameter to control this behavior.\n",
      "  _warn_prf(average, \"true nor predicted\", \"F-score is\", len(true_sum))\n"
     ]
    },
    {
     "name": "stdout",
     "output_type": "stream",
     "text": [
      "2023-06-17 15:57:31,352 — INFO — Model 3/3, Metric f1_score_macro, Validation set 3: 0.668323\n",
      "2023-06-17 15:57:31,353 — INFO — \tbest_validation_score so far: 0.668323\n",
      "2023-06-17 15:57:31,540 — INFO — Best hyperparameters: {'criterion': 'log_loss'}\n",
      "2023-06-17 15:57:31,541 — INFO — train_score: 0.997734\n",
      "2023-06-17 15:57:31,543 — INFO — validation_score: 0.668323\n"
     ]
    },
    {
     "name": "stderr",
     "output_type": "stream",
     "text": [
      "/home/joao/anaconda3/envs/SMpercursorPredictor/lib/python3.9/site-packages/sklearn/metrics/_classification.py:1609: UndefinedMetricWarning: F-score is ill-defined and being set to 0.0 in labels with no true nor predicted samples. Use `zero_division` parameter to control this behavior.\n",
      "  _warn_prf(average, \"true nor predicted\", \"F-score is\", len(true_sum))\n"
     ]
    }
   ],
   "source": [
    "from sklearn.ensemble import ExtraTreesClassifier\n",
    "from deepmol.metrics import Metric\n",
    "from sklearn.metrics import f1_score\n",
    "from deepmol.parameter_optimization import HyperparameterOptimizerValidation\n",
    "\n",
    "\n",
    "def f1_score_macro(y_true, y_pred):\n",
    "    return f1_score(y_true, y_pred, average='macro')\n",
    "\n",
    "params_dict_svc = {\"criterion\": [\"gini\", \"entropy\",\"log_loss\"]}\n",
    "optimizer = HyperparameterOptimizerValidation(ExtraTreesClassifier)\n",
    "best_etree, best_hyperparams, all_results = optimizer.hyperparameter_search(train_dataset=train_dataset,\n",
    "                                                                          valid_dataset=validation_dataset,\n",
    "                                                                          metric=Metric(f1_score_macro),\n",
    "                                                                          maximize_metric=True,\n",
    "                                                                          n_iter_search=100,\n",
    "                                                                          params_dict=params_dict_svc,\n",
    "                                                                          model_type=\"sklearn\"\n",
    "                                                                          )"
   ]
  },
  {
   "cell_type": "code",
   "execution_count": 1299,
   "metadata": {},
   "outputs": [
    {
     "name": "stdout",
     "output_type": "stream",
     "text": [
      "0.15958109350966493\n",
      " Precision: 0.5971014492753624\n",
      " Recall: 0.09538950080427479\n",
      " Accuracy: 0.14908256880733944\n"
     ]
    },
    {
     "name": "stderr",
     "output_type": "stream",
     "text": [
      "/home/joao/anaconda3/envs/SMpercursorPredictor/lib/python3.9/site-packages/sklearn/metrics/_classification.py:1344: UndefinedMetricWarning: Precision is ill-defined and being set to 0.0 in labels with no predicted samples. Use `zero_division` parameter to control this behavior.\n",
      "  _warn_prf(average, modifier, msg_start, len(result))\n"
     ]
    }
   ],
   "source": [
    "extra_tree_predictions = best_etree.predict(test_dataset)\n",
    "extra_t_processed_predictions = np.zeros((test_dataset.y.shape[0], test_dataset.y.shape[1]))\n",
    "for i, prediction in enumerate(extra_tree_predictions):\n",
    "    result = np.where(prediction[:, 1] == 1, 1, 0)\n",
    "    extra_t_processed_predictions[:, i] = result\n",
    "\n",
    "print (f1_score_macro(test_dataset.y, extra_t_processed_predictions))\n",
    "extra_tree_precision = precision_score(test_dataset.y, extra_t_processed_predictions, average='macro')\n",
    "extra_tree_recall = recall_score(test_dataset.y, extra_t_processed_predictions, average='macro')\n",
    "extra_tree_accuracy = accuracy_score(test_dataset.y, extra_t_processed_predictions)\n",
    "\n",
    "print(\" Precision:\", extra_tree_precision)\n",
    "print(\" Recall:\", extra_tree_recall)\n",
    "print(\" Accuracy:\", extra_tree_accuracy)"
   ]
  },
  {
   "cell_type": "code",
   "execution_count": 1254,
   "metadata": {},
   "outputs": [
    {
     "name": "stdout",
     "output_type": "stream",
     "text": [
      "2023-06-17 15:57:31,740 — INFO — Fitting 8 random models from a space of 8 possible models.\n",
      "2023-06-17 15:57:31,742 — INFO — Fitting model 1/8\n",
      "2023-06-17 15:57:31,745 — INFO — hyperparameters: {'weights': 'uniform', 'algorithm': 'auto'}\n",
      "2023-06-17 15:57:31,834 — INFO — Model 1/8, Metric f1_score_macro, Validation set 1: 0.650276\n",
      "2023-06-17 15:57:31,838 — INFO — \tbest_validation_score so far: 0.650276\n",
      "2023-06-17 15:57:31,841 — INFO — Fitting model 2/8\n",
      "2023-06-17 15:57:31,845 — INFO — hyperparameters: {'weights': 'uniform', 'algorithm': 'ball_tree'}\n"
     ]
    },
    {
     "name": "stderr",
     "output_type": "stream",
     "text": [
      "/home/joao/anaconda3/envs/SMpercursorPredictor/lib/python3.9/site-packages/sklearn/metrics/_classification.py:1609: UndefinedMetricWarning: F-score is ill-defined and being set to 0.0 in labels with no true nor predicted samples. Use `zero_division` parameter to control this behavior.\n",
      "  _warn_prf(average, \"true nor predicted\", \"F-score is\", len(true_sum))\n"
     ]
    },
    {
     "name": "stdout",
     "output_type": "stream",
     "text": [
      "2023-06-17 15:57:31,932 — INFO — Model 2/8, Metric f1_score_macro, Validation set 2: 0.650602\n",
      "2023-06-17 15:57:31,935 — INFO — \tbest_validation_score so far: 0.650602\n",
      "2023-06-17 15:57:31,937 — INFO — Fitting model 3/8\n",
      "2023-06-17 15:57:31,938 — INFO — hyperparameters: {'weights': 'uniform', 'algorithm': 'kd_tree'}\n"
     ]
    },
    {
     "name": "stderr",
     "output_type": "stream",
     "text": [
      "/home/joao/anaconda3/envs/SMpercursorPredictor/lib/python3.9/site-packages/sklearn/metrics/_classification.py:1609: UndefinedMetricWarning: F-score is ill-defined and being set to 0.0 in labels with no true nor predicted samples. Use `zero_division` parameter to control this behavior.\n",
      "  _warn_prf(average, \"true nor predicted\", \"F-score is\", len(true_sum))\n"
     ]
    },
    {
     "name": "stdout",
     "output_type": "stream",
     "text": [
      "2023-06-17 15:57:32,039 — INFO — Model 3/8, Metric f1_score_macro, Validation set 3: 0.622619\n",
      "2023-06-17 15:57:32,041 — INFO — \tbest_validation_score so far: 0.650602\n",
      "2023-06-17 15:57:32,042 — INFO — Fitting model 4/8\n",
      "2023-06-17 15:57:32,044 — INFO — hyperparameters: {'weights': 'uniform', 'algorithm': 'brute'}\n",
      "2023-06-17 15:57:32,091 — INFO — Model 4/8, Metric f1_score_macro, Validation set 4: 0.650276\n",
      "2023-06-17 15:57:32,092 — INFO — \tbest_validation_score so far: 0.650602\n",
      "2023-06-17 15:57:32,093 — INFO — Fitting model 5/8\n",
      "2023-06-17 15:57:32,095 — INFO — hyperparameters: {'weights': 'distance', 'algorithm': 'auto'}\n",
      "2023-06-17 15:57:32,121 — INFO — Model 5/8, Metric f1_score_macro, Validation set 5: 0.683566\n",
      "2023-06-17 15:57:32,122 — INFO — \tbest_validation_score so far: 0.683566\n",
      "2023-06-17 15:57:32,123 — INFO — Fitting model 6/8\n",
      "2023-06-17 15:57:32,124 — INFO — hyperparameters: {'weights': 'distance', 'algorithm': 'ball_tree'}\n"
     ]
    },
    {
     "name": "stderr",
     "output_type": "stream",
     "text": [
      "/home/joao/anaconda3/envs/SMpercursorPredictor/lib/python3.9/site-packages/sklearn/metrics/_classification.py:1609: UndefinedMetricWarning: F-score is ill-defined and being set to 0.0 in labels with no true nor predicted samples. Use `zero_division` parameter to control this behavior.\n",
      "  _warn_prf(average, \"true nor predicted\", \"F-score is\", len(true_sum))\n",
      "/home/joao/anaconda3/envs/SMpercursorPredictor/lib/python3.9/site-packages/sklearn/metrics/_classification.py:1609: UndefinedMetricWarning: F-score is ill-defined and being set to 0.0 in labels with no true nor predicted samples. Use `zero_division` parameter to control this behavior.\n",
      "  _warn_prf(average, \"true nor predicted\", \"F-score is\", len(true_sum))\n",
      "/home/joao/anaconda3/envs/SMpercursorPredictor/lib/python3.9/site-packages/sklearn/metrics/_classification.py:1609: UndefinedMetricWarning: F-score is ill-defined and being set to 0.0 in labels with no true nor predicted samples. Use `zero_division` parameter to control this behavior.\n",
      "  _warn_prf(average, \"true nor predicted\", \"F-score is\", len(true_sum))\n"
     ]
    },
    {
     "name": "stdout",
     "output_type": "stream",
     "text": [
      "2023-06-17 15:57:32,187 — INFO — Model 6/8, Metric f1_score_macro, Validation set 6: 0.690575\n",
      "2023-06-17 15:57:32,188 — INFO — \tbest_validation_score so far: 0.690575\n",
      "2023-06-17 15:57:32,189 — INFO — Fitting model 7/8\n",
      "2023-06-17 15:57:32,191 — INFO — hyperparameters: {'weights': 'distance', 'algorithm': 'kd_tree'}\n"
     ]
    },
    {
     "name": "stderr",
     "output_type": "stream",
     "text": [
      "/home/joao/anaconda3/envs/SMpercursorPredictor/lib/python3.9/site-packages/sklearn/metrics/_classification.py:1609: UndefinedMetricWarning: F-score is ill-defined and being set to 0.0 in labels with no true nor predicted samples. Use `zero_division` parameter to control this behavior.\n",
      "  _warn_prf(average, \"true nor predicted\", \"F-score is\", len(true_sum))\n"
     ]
    },
    {
     "name": "stdout",
     "output_type": "stream",
     "text": [
      "2023-06-17 15:57:32,271 — INFO — Model 7/8, Metric f1_score_macro, Validation set 7: 0.660926\n",
      "2023-06-17 15:57:32,272 — INFO — \tbest_validation_score so far: 0.690575\n",
      "2023-06-17 15:57:32,274 — INFO — Fitting model 8/8\n",
      "2023-06-17 15:57:32,276 — INFO — hyperparameters: {'weights': 'distance', 'algorithm': 'brute'}\n",
      "2023-06-17 15:57:32,305 — INFO — Model 8/8, Metric f1_score_macro, Validation set 8: 0.683566\n",
      "2023-06-17 15:57:32,306 — INFO — \tbest_validation_score so far: 0.690575\n"
     ]
    },
    {
     "name": "stderr",
     "output_type": "stream",
     "text": [
      "/home/joao/anaconda3/envs/SMpercursorPredictor/lib/python3.9/site-packages/sklearn/metrics/_classification.py:1609: UndefinedMetricWarning: F-score is ill-defined and being set to 0.0 in labels with no true nor predicted samples. Use `zero_division` parameter to control this behavior.\n",
      "  _warn_prf(average, \"true nor predicted\", \"F-score is\", len(true_sum))\n",
      "/home/joao/anaconda3/envs/SMpercursorPredictor/lib/python3.9/site-packages/sklearn/metrics/_classification.py:1609: UndefinedMetricWarning: F-score is ill-defined and being set to 0.0 in labels with no true nor predicted samples. Use `zero_division` parameter to control this behavior.\n",
      "  _warn_prf(average, \"true nor predicted\", \"F-score is\", len(true_sum))\n"
     ]
    },
    {
     "name": "stdout",
     "output_type": "stream",
     "text": [
      "2023-06-17 15:57:32,413 — INFO — Best hyperparameters: {'weights': 'distance', 'algorithm': 'ball_tree'}\n",
      "2023-06-17 15:57:32,415 — INFO — train_score: 0.997734\n",
      "2023-06-17 15:57:32,417 — INFO — validation_score: 0.690575\n"
     ]
    }
   ],
   "source": [
    "from sklearn.neighbors import KNeighborsClassifier\n",
    "from deepmol.metrics import Metric\n",
    "from sklearn.metrics import f1_score\n",
    "from deepmol.parameter_optimization import HyperparameterOptimizerValidation\n",
    "\n",
    "\n",
    "def f1_score_macro(y_true, y_pred):\n",
    "    return f1_score(y_true, y_pred, average='macro')\n",
    "\n",
    "params_dict_svc = {'weights':['uniform', 'distance'],\"algorithm\" :[\"auto\", \"ball_tree\", \"kd_tree\", \"brute\"]}\n",
    "optimizer = HyperparameterOptimizerValidation(KNeighborsClassifier)\n",
    "best_kneighbors, best_hyperparams, all_results = optimizer.hyperparameter_search(train_dataset=train_dataset,\n",
    "                                                                          valid_dataset=validation_dataset,\n",
    "                                                                          metric=Metric(f1_score_macro),\n",
    "                                                                          maximize_metric=True,\n",
    "                                                                          n_iter_search=100,\n",
    "                                                                          params_dict=params_dict_svc,\n",
    "                                                                          model_type=\"sklearn\"\n",
    "                                                                          )"
   ]
  },
  {
   "cell_type": "code",
   "execution_count": 1305,
   "metadata": {},
   "outputs": [
    {
     "name": "stdout",
     "output_type": "stream",
     "text": [
      "0.44723731147637935\n",
      " Precision: 0.7881957571938669\n",
      " Recall: 0.34802061422665254\n",
      " Accuracy: 0.48853211009174313\n"
     ]
    },
    {
     "name": "stderr",
     "output_type": "stream",
     "text": [
      "/home/joao/anaconda3/envs/SMpercursorPredictor/lib/python3.9/site-packages/sklearn/metrics/_classification.py:1344: UndefinedMetricWarning: Precision is ill-defined and being set to 0.0 in labels with no predicted samples. Use `zero_division` parameter to control this behavior.\n",
      "  _warn_prf(average, modifier, msg_start, len(result))\n"
     ]
    }
   ],
   "source": [
    "predictions = best_kneighbors.predict(test_dataset)\n",
    "processed_prediction = np.zeros((test_dataset.y.shape[0], test_dataset.y.shape[1]))\n",
    "for i, prediction in enumerate(extra_tree_predictions):\n",
    "    result = np.where(prediction[:, 1] == 1, 1, 0)\n",
    "    processed_prediction[:, i] = result\n",
    "print (f1_score_macro(test_dataset.y, processed_prediction))\n",
    "precision = precision_score(test_dataset.y, processed_prediction, average='macro')\n",
    "recall = recall_score(test_dataset.y, processed_prediction, average='macro')\n",
    "accuracy = accuracy_score(test_dataset.y, processed_prediction)\n",
    "\n",
    "print(\" Precision:\", precision)\n",
    "print(\" Recall:\", recall)\n",
    "print(\" Accuracy:\", accuracy)"
   ]
  },
  {
   "cell_type": "code",
   "execution_count": 1256,
   "metadata": {},
   "outputs": [
    {
     "name": "stdout",
     "output_type": "stream",
     "text": [
      "2023-06-17 15:57:32,734 — INFO — Fitting 12 random models from a space of 12 possible models.\n",
      "2023-06-17 15:57:32,735 — INFO — Fitting model 1/12\n",
      "2023-06-17 15:57:32,737 — INFO — hyperparameters: {'activation': 'identity', 'solver': 'lbfgs'}\n",
      "2023-06-17 15:57:35,656 — INFO — Model 1/12, Metric f1_score_macro, Validation set 1: 0.675212\n",
      "2023-06-17 15:57:35,664 — INFO — \tbest_validation_score so far: 0.675212\n",
      "2023-06-17 15:57:35,669 — INFO — Fitting model 2/12\n",
      "2023-06-17 15:57:35,674 — INFO — hyperparameters: {'activation': 'identity', 'solver': 'sgd'}\n"
     ]
    },
    {
     "name": "stderr",
     "output_type": "stream",
     "text": [
      "/home/joao/anaconda3/envs/SMpercursorPredictor/lib/python3.9/site-packages/sklearn/metrics/_classification.py:1609: UndefinedMetricWarning: F-score is ill-defined and being set to 0.0 in labels with no true nor predicted samples. Use `zero_division` parameter to control this behavior.\n",
      "  _warn_prf(average, \"true nor predicted\", \"F-score is\", len(true_sum))\n"
     ]
    },
    {
     "name": "stdout",
     "output_type": "stream",
     "text": [
      "2023-06-17 15:57:39,160 — INFO — Model 2/12, Metric f1_score_macro, Validation set 2: 0.229842\n",
      "2023-06-17 15:57:39,168 — INFO — \tbest_validation_score so far: 0.675212\n",
      "2023-06-17 15:57:39,170 — INFO — Fitting model 3/12\n",
      "2023-06-17 15:57:39,171 — INFO — hyperparameters: {'activation': 'identity', 'solver': 'adam'}\n"
     ]
    },
    {
     "name": "stderr",
     "output_type": "stream",
     "text": [
      "/home/joao/anaconda3/envs/SMpercursorPredictor/lib/python3.9/site-packages/sklearn/neural_network/_multilayer_perceptron.py:686: ConvergenceWarning: Stochastic Optimizer: Maximum iterations (200) reached and the optimization hasn't converged yet.\n",
      "  warnings.warn(\n",
      "/home/joao/anaconda3/envs/SMpercursorPredictor/lib/python3.9/site-packages/sklearn/metrics/_classification.py:1609: UndefinedMetricWarning: F-score is ill-defined and being set to 0.0 in labels with no true nor predicted samples. Use `zero_division` parameter to control this behavior.\n",
      "  _warn_prf(average, \"true nor predicted\", \"F-score is\", len(true_sum))\n"
     ]
    },
    {
     "name": "stdout",
     "output_type": "stream",
     "text": [
      "2023-06-17 15:57:42,342 — INFO — Model 3/12, Metric f1_score_macro, Validation set 3: 0.665789\n",
      "2023-06-17 15:57:42,351 — INFO — \tbest_validation_score so far: 0.675212\n",
      "2023-06-17 15:57:42,354 — INFO — Fitting model 4/12\n",
      "2023-06-17 15:57:42,356 — INFO — hyperparameters: {'activation': 'logistic', 'solver': 'lbfgs'}\n"
     ]
    },
    {
     "name": "stderr",
     "output_type": "stream",
     "text": [
      "/home/joao/anaconda3/envs/SMpercursorPredictor/lib/python3.9/site-packages/sklearn/neural_network/_multilayer_perceptron.py:686: ConvergenceWarning: Stochastic Optimizer: Maximum iterations (200) reached and the optimization hasn't converged yet.\n",
      "  warnings.warn(\n",
      "/home/joao/anaconda3/envs/SMpercursorPredictor/lib/python3.9/site-packages/sklearn/metrics/_classification.py:1609: UndefinedMetricWarning: F-score is ill-defined and being set to 0.0 in labels with no true nor predicted samples. Use `zero_division` parameter to control this behavior.\n",
      "  _warn_prf(average, \"true nor predicted\", \"F-score is\", len(true_sum))\n"
     ]
    },
    {
     "name": "stdout",
     "output_type": "stream",
     "text": [
      "2023-06-17 15:57:45,327 — INFO — Model 4/12, Metric f1_score_macro, Validation set 4: 0.709025\n",
      "2023-06-17 15:57:45,334 — INFO — \tbest_validation_score so far: 0.709025\n",
      "2023-06-17 15:57:45,336 — INFO — Fitting model 5/12\n",
      "2023-06-17 15:57:45,338 — INFO — hyperparameters: {'activation': 'logistic', 'solver': 'sgd'}\n"
     ]
    },
    {
     "name": "stderr",
     "output_type": "stream",
     "text": [
      "/home/joao/anaconda3/envs/SMpercursorPredictor/lib/python3.9/site-packages/sklearn/metrics/_classification.py:1609: UndefinedMetricWarning: F-score is ill-defined and being set to 0.0 in labels with no true nor predicted samples. Use `zero_division` parameter to control this behavior.\n",
      "  _warn_prf(average, \"true nor predicted\", \"F-score is\", len(true_sum))\n"
     ]
    },
    {
     "name": "stdout",
     "output_type": "stream",
     "text": [
      "2023-06-17 15:57:49,188 — INFO — Model 5/12, Metric f1_score_macro, Validation set 5: 0.000000\n",
      "2023-06-17 15:57:49,192 — INFO — \tbest_validation_score so far: 0.709025\n",
      "2023-06-17 15:57:49,196 — INFO — Fitting model 6/12\n",
      "2023-06-17 15:57:49,199 — INFO — hyperparameters: {'activation': 'logistic', 'solver': 'adam'}\n"
     ]
    },
    {
     "name": "stderr",
     "output_type": "stream",
     "text": [
      "/home/joao/anaconda3/envs/SMpercursorPredictor/lib/python3.9/site-packages/sklearn/neural_network/_multilayer_perceptron.py:686: ConvergenceWarning: Stochastic Optimizer: Maximum iterations (200) reached and the optimization hasn't converged yet.\n",
      "  warnings.warn(\n",
      "/home/joao/anaconda3/envs/SMpercursorPredictor/lib/python3.9/site-packages/sklearn/metrics/_classification.py:1609: UndefinedMetricWarning: F-score is ill-defined and being set to 0.0 in labels with no true nor predicted samples. Use `zero_division` parameter to control this behavior.\n",
      "  _warn_prf(average, \"true nor predicted\", \"F-score is\", len(true_sum))\n"
     ]
    },
    {
     "name": "stdout",
     "output_type": "stream",
     "text": [
      "2023-06-17 15:57:52,690 — INFO — Model 6/12, Metric f1_score_macro, Validation set 6: 0.250016\n",
      "2023-06-17 15:57:52,698 — INFO — \tbest_validation_score so far: 0.709025\n",
      "2023-06-17 15:57:52,699 — INFO — Fitting model 7/12\n",
      "2023-06-17 15:57:52,701 — INFO — hyperparameters: {'activation': 'tanh', 'solver': 'lbfgs'}\n"
     ]
    },
    {
     "name": "stderr",
     "output_type": "stream",
     "text": [
      "/home/joao/anaconda3/envs/SMpercursorPredictor/lib/python3.9/site-packages/sklearn/neural_network/_multilayer_perceptron.py:686: ConvergenceWarning: Stochastic Optimizer: Maximum iterations (200) reached and the optimization hasn't converged yet.\n",
      "  warnings.warn(\n",
      "/home/joao/anaconda3/envs/SMpercursorPredictor/lib/python3.9/site-packages/sklearn/metrics/_classification.py:1609: UndefinedMetricWarning: F-score is ill-defined and being set to 0.0 in labels with no true nor predicted samples. Use `zero_division` parameter to control this behavior.\n",
      "  _warn_prf(average, \"true nor predicted\", \"F-score is\", len(true_sum))\n"
     ]
    },
    {
     "name": "stdout",
     "output_type": "stream",
     "text": [
      "2023-06-17 15:57:55,447 — INFO — Model 7/12, Metric f1_score_macro, Validation set 7: 0.703843\n",
      "2023-06-17 15:57:55,449 — INFO — \tbest_validation_score so far: 0.709025\n",
      "2023-06-17 15:57:55,450 — INFO — Fitting model 8/12\n",
      "2023-06-17 15:57:55,452 — INFO — hyperparameters: {'activation': 'tanh', 'solver': 'sgd'}\n",
      "2023-06-17 15:57:58,857 — INFO — Model 8/12, Metric f1_score_macro, Validation set 8: 0.180454\n",
      "2023-06-17 15:57:58,861 — INFO — \tbest_validation_score so far: 0.709025\n",
      "2023-06-17 15:57:58,862 — INFO — Fitting model 9/12\n",
      "2023-06-17 15:57:58,864 — INFO — hyperparameters: {'activation': 'tanh', 'solver': 'adam'}\n"
     ]
    },
    {
     "name": "stderr",
     "output_type": "stream",
     "text": [
      "/home/joao/anaconda3/envs/SMpercursorPredictor/lib/python3.9/site-packages/sklearn/neural_network/_multilayer_perceptron.py:686: ConvergenceWarning: Stochastic Optimizer: Maximum iterations (200) reached and the optimization hasn't converged yet.\n",
      "  warnings.warn(\n",
      "/home/joao/anaconda3/envs/SMpercursorPredictor/lib/python3.9/site-packages/sklearn/metrics/_classification.py:1609: UndefinedMetricWarning: F-score is ill-defined and being set to 0.0 in labels with no true nor predicted samples. Use `zero_division` parameter to control this behavior.\n",
      "  _warn_prf(average, \"true nor predicted\", \"F-score is\", len(true_sum))\n"
     ]
    },
    {
     "name": "stdout",
     "output_type": "stream",
     "text": [
      "2023-06-17 15:58:02,607 — INFO — Model 9/12, Metric f1_score_macro, Validation set 9: 0.655295\n",
      "2023-06-17 15:58:02,608 — INFO — \tbest_validation_score so far: 0.709025\n",
      "2023-06-17 15:58:02,612 — INFO — Fitting model 10/12\n",
      "2023-06-17 15:58:02,619 — INFO — hyperparameters: {'activation': 'relu', 'solver': 'lbfgs'}\n"
     ]
    },
    {
     "name": "stderr",
     "output_type": "stream",
     "text": [
      "/home/joao/anaconda3/envs/SMpercursorPredictor/lib/python3.9/site-packages/sklearn/neural_network/_multilayer_perceptron.py:686: ConvergenceWarning: Stochastic Optimizer: Maximum iterations (200) reached and the optimization hasn't converged yet.\n",
      "  warnings.warn(\n",
      "/home/joao/anaconda3/envs/SMpercursorPredictor/lib/python3.9/site-packages/sklearn/metrics/_classification.py:1609: UndefinedMetricWarning: F-score is ill-defined and being set to 0.0 in labels with no true nor predicted samples. Use `zero_division` parameter to control this behavior.\n",
      "  _warn_prf(average, \"true nor predicted\", \"F-score is\", len(true_sum))\n"
     ]
    },
    {
     "name": "stdout",
     "output_type": "stream",
     "text": [
      "2023-06-17 15:58:06,159 — INFO — Model 10/12, Metric f1_score_macro, Validation set 10: 0.671162\n",
      "2023-06-17 15:58:06,164 — INFO — \tbest_validation_score so far: 0.709025\n",
      "2023-06-17 15:58:06,168 — INFO — Fitting model 11/12\n",
      "2023-06-17 15:58:06,172 — INFO — hyperparameters: {'activation': 'relu', 'solver': 'sgd'}\n"
     ]
    },
    {
     "name": "stderr",
     "output_type": "stream",
     "text": [
      "/home/joao/anaconda3/envs/SMpercursorPredictor/lib/python3.9/site-packages/sklearn/metrics/_classification.py:1609: UndefinedMetricWarning: F-score is ill-defined and being set to 0.0 in labels with no true nor predicted samples. Use `zero_division` parameter to control this behavior.\n",
      "  _warn_prf(average, \"true nor predicted\", \"F-score is\", len(true_sum))\n"
     ]
    },
    {
     "name": "stdout",
     "output_type": "stream",
     "text": [
      "2023-06-17 15:58:08,430 — INFO — Model 11/12, Metric f1_score_macro, Validation set 11: 0.149362\n",
      "2023-06-17 15:58:08,431 — INFO — \tbest_validation_score so far: 0.709025\n",
      "2023-06-17 15:58:08,436 — INFO — Fitting model 12/12\n",
      "2023-06-17 15:58:08,438 — INFO — hyperparameters: {'activation': 'relu', 'solver': 'adam'}\n"
     ]
    },
    {
     "name": "stderr",
     "output_type": "stream",
     "text": [
      "/home/joao/anaconda3/envs/SMpercursorPredictor/lib/python3.9/site-packages/sklearn/neural_network/_multilayer_perceptron.py:686: ConvergenceWarning: Stochastic Optimizer: Maximum iterations (200) reached and the optimization hasn't converged yet.\n",
      "  warnings.warn(\n",
      "/home/joao/anaconda3/envs/SMpercursorPredictor/lib/python3.9/site-packages/sklearn/metrics/_classification.py:1609: UndefinedMetricWarning: F-score is ill-defined and being set to 0.0 in labels with no true nor predicted samples. Use `zero_division` parameter to control this behavior.\n",
      "  _warn_prf(average, \"true nor predicted\", \"F-score is\", len(true_sum))\n"
     ]
    },
    {
     "name": "stdout",
     "output_type": "stream",
     "text": [
      "2023-06-17 15:58:10,619 — INFO — Model 12/12, Metric f1_score_macro, Validation set 12: 0.669863\n",
      "2023-06-17 15:58:10,620 — INFO — \tbest_validation_score so far: 0.709025\n",
      "2023-06-17 15:58:10,641 — INFO — Best hyperparameters: {'activation': 'logistic', 'solver': 'lbfgs'}\n",
      "2023-06-17 15:58:10,643 — INFO — train_score: 0.997754\n",
      "2023-06-17 15:58:10,644 — INFO — validation_score: 0.709025\n"
     ]
    },
    {
     "name": "stderr",
     "output_type": "stream",
     "text": [
      "/home/joao/anaconda3/envs/SMpercursorPredictor/lib/python3.9/site-packages/sklearn/neural_network/_multilayer_perceptron.py:686: ConvergenceWarning: Stochastic Optimizer: Maximum iterations (200) reached and the optimization hasn't converged yet.\n",
      "  warnings.warn(\n",
      "/home/joao/anaconda3/envs/SMpercursorPredictor/lib/python3.9/site-packages/sklearn/metrics/_classification.py:1609: UndefinedMetricWarning: F-score is ill-defined and being set to 0.0 in labels with no true nor predicted samples. Use `zero_division` parameter to control this behavior.\n",
      "  _warn_prf(average, \"true nor predicted\", \"F-score is\", len(true_sum))\n"
     ]
    }
   ],
   "source": [
    "from sklearn.neural_network import MLPClassifier\n",
    "from deepmol.metrics import Metric\n",
    "from sklearn.metrics import f1_score\n",
    "from deepmol.parameter_optimization import HyperparameterOptimizerValidation\n",
    "\n",
    "\n",
    "def f1_score_macro(y_true, y_pred):\n",
    "    return f1_score(y_true, y_pred, average='macro')\n",
    "\n",
    "params_dict_svc = {'activation':['identity', 'logistic','tanh','relu'],\"solver\" :[\"lbfgs\", \"sgd\", \"adam\"]}\n",
    "optimizer = HyperparameterOptimizerValidation(MLPClassifier)\n",
    "best_MLP, best_hyperparams, all_results = optimizer.hyperparameter_search(train_dataset=train_dataset,\n",
    "                                                                          valid_dataset=validation_dataset,\n",
    "                                                                          metric=Metric(f1_score_macro),\n",
    "                                                                          maximize_metric=True,\n",
    "                                                                          n_iter_search=100,\n",
    "                                                                          params_dict=params_dict_svc,\n",
    "                                                                          model_type=\"sklearn\"\n",
    "                                                                          )"
   ]
  },
  {
   "cell_type": "code",
   "execution_count": 1295,
   "metadata": {},
   "outputs": [
    {
     "name": "stdout",
     "output_type": "stream",
     "text": [
      "              precision    recall  f1-score   support\n",
      "\n",
      "           0       0.67      0.67      0.67        18\n",
      "           1       0.89      1.00      0.94         8\n",
      "           2       0.87      0.61      0.72        79\n",
      "           3       0.40      0.25      0.31         8\n",
      "           4       0.00      0.00      0.00         1\n",
      "           5       0.83      0.50      0.62        10\n",
      "           6       1.00      0.80      0.89         5\n",
      "           7       0.83      0.92      0.87       100\n",
      "           8       0.75      0.60      0.67        15\n",
      "           9       0.17      0.25      0.20         8\n",
      "          10       0.00      0.00      0.00         1\n",
      "          11       0.00      0.00      0.00         0\n",
      "          12       0.88      0.78      0.82         9\n",
      "          13       0.00      0.00      0.00         8\n",
      "          14       0.79      0.86      0.82        73\n",
      "          15       0.00      0.00      0.00         1\n",
      "          17       0.45      0.56      0.50         9\n",
      "          18       0.00      0.00      0.00         0\n",
      "          19       0.25      0.33      0.29         3\n",
      "          20       0.54      0.50      0.52        30\n",
      "          21       0.75      0.83      0.79        47\n",
      "          22       0.50      0.33      0.40         3\n",
      "\n",
      "    accuracy                           0.72       436\n",
      "   macro avg       0.48      0.44      0.46       436\n",
      "weighted avg       0.74      0.72      0.72       436\n",
      "\n"
     ]
    },
    {
     "name": "stderr",
     "output_type": "stream",
     "text": [
      "/home/joao/anaconda3/envs/SMpercursorPredictor/lib/python3.9/site-packages/sklearn/metrics/_classification.py:1344: UndefinedMetricWarning: Precision and F-score are ill-defined and being set to 0.0 in labels with no predicted samples. Use `zero_division` parameter to control this behavior.\n",
      "  _warn_prf(average, modifier, msg_start, len(result))\n",
      "/home/joao/anaconda3/envs/SMpercursorPredictor/lib/python3.9/site-packages/sklearn/metrics/_classification.py:1344: UndefinedMetricWarning: Recall and F-score are ill-defined and being set to 0.0 in labels with no true samples. Use `zero_division` parameter to control this behavior.\n",
      "  _warn_prf(average, modifier, msg_start, len(result))\n",
      "/home/joao/anaconda3/envs/SMpercursorPredictor/lib/python3.9/site-packages/sklearn/metrics/_classification.py:1344: UndefinedMetricWarning: Precision and F-score are ill-defined and being set to 0.0 in labels with no predicted samples. Use `zero_division` parameter to control this behavior.\n",
      "  _warn_prf(average, modifier, msg_start, len(result))\n",
      "/home/joao/anaconda3/envs/SMpercursorPredictor/lib/python3.9/site-packages/sklearn/metrics/_classification.py:1344: UndefinedMetricWarning: Recall and F-score are ill-defined and being set to 0.0 in labels with no true samples. Use `zero_division` parameter to control this behavior.\n",
      "  _warn_prf(average, modifier, msg_start, len(result))\n",
      "/home/joao/anaconda3/envs/SMpercursorPredictor/lib/python3.9/site-packages/sklearn/metrics/_classification.py:1344: UndefinedMetricWarning: Precision and F-score are ill-defined and being set to 0.0 in labels with no predicted samples. Use `zero_division` parameter to control this behavior.\n",
      "  _warn_prf(average, modifier, msg_start, len(result))\n",
      "/home/joao/anaconda3/envs/SMpercursorPredictor/lib/python3.9/site-packages/sklearn/metrics/_classification.py:1344: UndefinedMetricWarning: Recall and F-score are ill-defined and being set to 0.0 in labels with no true samples. Use `zero_division` parameter to control this behavior.\n",
      "  _warn_prf(average, modifier, msg_start, len(result))\n"
     ]
    }
   ],
   "source": [
    "from sklearn.metrics import classification_report\n",
    "\n",
    "mlp_predictions = best_MLP.predict(test_dataset)\n",
    "mlp_processed_predictions = np.argmax(mlp_predictions, axis=1)\n",
    "\n",
    "# Convert test_dataset.y to single-column format\n",
    "y_true = np.argmax(test_dataset.y, axis=1)\n",
    "\n",
    "report = classification_report(y_true, mlp_processed_predictions)\n",
    "print(report)\n",
    "\n",
    "\n"
   ]
  },
  {
   "cell_type": "code",
   "execution_count": 1297,
   "metadata": {},
   "outputs": [
    {
     "name": "stdout",
     "output_type": "stream",
     "text": [
      "2023-06-17 18:34:59,288 — INFO — Fitting 3 random models from a space of 3 possible models.\n",
      "2023-06-17 18:34:59,293 — INFO — Fitting model 1/3\n",
      "2023-06-17 18:34:59,296 — INFO — hyperparameters: {'criterion': 'gini'}\n",
      "2023-06-17 18:34:59,913 — INFO — Model 1/3, Metric f1_score_macro, Validation set 1: 0.626678\n",
      "2023-06-17 18:34:59,914 — INFO — \tbest_validation_score so far: 0.626678\n",
      "2023-06-17 18:34:59,914 — INFO — Fitting model 2/3\n",
      "2023-06-17 18:34:59,915 — INFO — hyperparameters: {'criterion': 'entropy'}\n"
     ]
    },
    {
     "name": "stderr",
     "output_type": "stream",
     "text": [
      "/home/joao/anaconda3/envs/SMpercursorPredictor/lib/python3.9/site-packages/sklearn/metrics/_classification.py:1609: UndefinedMetricWarning: F-score is ill-defined and being set to 0.0 in labels with no true nor predicted samples. Use `zero_division` parameter to control this behavior.\n",
      "  _warn_prf(average, \"true nor predicted\", \"F-score is\", len(true_sum))\n"
     ]
    },
    {
     "name": "stdout",
     "output_type": "stream",
     "text": [
      "2023-06-17 18:35:00,620 — INFO — Model 2/3, Metric f1_score_macro, Validation set 2: 0.622457\n",
      "2023-06-17 18:35:00,621 — INFO — \tbest_validation_score so far: 0.626678\n",
      "2023-06-17 18:35:00,622 — INFO — Fitting model 3/3\n",
      "2023-06-17 18:35:00,623 — INFO — hyperparameters: {'criterion': 'log_loss'}\n"
     ]
    },
    {
     "name": "stderr",
     "output_type": "stream",
     "text": [
      "/home/joao/anaconda3/envs/SMpercursorPredictor/lib/python3.9/site-packages/sklearn/metrics/_classification.py:1609: UndefinedMetricWarning: F-score is ill-defined and being set to 0.0 in labels with no true nor predicted samples. Use `zero_division` parameter to control this behavior.\n",
      "  _warn_prf(average, \"true nor predicted\", \"F-score is\", len(true_sum))\n"
     ]
    },
    {
     "name": "stdout",
     "output_type": "stream",
     "text": [
      "2023-06-17 18:35:01,412 — INFO — Model 3/3, Metric f1_score_macro, Validation set 3: 0.624236\n",
      "2023-06-17 18:35:01,413 — INFO — \tbest_validation_score so far: 0.626678\n"
     ]
    },
    {
     "name": "stderr",
     "output_type": "stream",
     "text": [
      "/home/joao/anaconda3/envs/SMpercursorPredictor/lib/python3.9/site-packages/sklearn/metrics/_classification.py:1609: UndefinedMetricWarning: F-score is ill-defined and being set to 0.0 in labels with no true nor predicted samples. Use `zero_division` parameter to control this behavior.\n",
      "  _warn_prf(average, \"true nor predicted\", \"F-score is\", len(true_sum))\n"
     ]
    },
    {
     "name": "stdout",
     "output_type": "stream",
     "text": [
      "2023-06-17 18:35:01,616 — INFO — Best hyperparameters: {'criterion': 'gini'}\n",
      "2023-06-17 18:35:01,617 — INFO — train_score: 0.997756\n",
      "2023-06-17 18:35:01,618 — INFO — validation_score: 0.626678\n"
     ]
    }
   ],
   "source": [
    "from sklearn.ensemble import RandomForestClassifier\n",
    "from deepmol.metrics import Metric\n",
    "from sklearn.metrics import f1_score\n",
    "from deepmol.parameter_optimization import HyperparameterOptimizerValidation\n",
    "\n",
    "\n",
    "def f1_score_macro(y_true, y_pred):\n",
    "    return f1_score(y_true, y_pred, average='macro')\n",
    "\n",
    "params_dict_svc = {\"criterion\": [\"gini\", \"entropy\",\"log_loss\"]}\n",
    "optimizer = HyperparameterOptimizerValidation(RandomForestClassifier)\n",
    "best_forest, best_hyperparams, all_results = optimizer.hyperparameter_search(train_dataset=train_dataset,\n",
    "                                                                          valid_dataset=validation_dataset,\n",
    "                                                                          metric=Metric(f1_score_macro),\n",
    "                                                                          maximize_metric=True,\n",
    "                                                                          n_iter_search=100,\n",
    "                                                                          params_dict=params_dict_svc,\n",
    "                                                                          model_type=\"sklearn\"\n",
    "                                                                          )"
   ]
  },
  {
   "cell_type": "code",
   "execution_count": 1298,
   "metadata": {},
   "outputs": [
    {
     "name": "stdout",
     "output_type": "stream",
     "text": [
      "0.014373920803988903\n",
      "ExtraTreeClassifier Precision: 0.13043478260869565\n",
      "ExtraTreeClassifier Recall: 0.007798038101068405\n",
      "ExtraTreeClassifier Accuracy: 0.04357798165137615\n"
     ]
    },
    {
     "name": "stderr",
     "output_type": "stream",
     "text": [
      "/home/joao/anaconda3/envs/SMpercursorPredictor/lib/python3.9/site-packages/sklearn/metrics/_classification.py:1344: UndefinedMetricWarning: Precision is ill-defined and being set to 0.0 in labels with no predicted samples. Use `zero_division` parameter to control this behavior.\n",
      "  _warn_prf(average, modifier, msg_start, len(result))\n"
     ]
    }
   ],
   "source": [
    "extra_tree_predictions = best_forest.predict(test_dataset)\n",
    "extra_tree_processed_prediction = np.zeros((test_dataset.y.shape[0], test_dataset.y.shape[1]))\n",
    "for i, prediction in enumerate(extra_tree_predictions):\n",
    "    result = np.where(prediction[:, 1] == 1, 1, 0)\n",
    "    extra_tree_processed_prediction[:, i] = result\n",
    "print (f1_score_macro(test_dataset.y, extra_tree_processed_prediction))\n",
    "extra_tree_precision = precision_score(test_dataset.y, extra_tree_processed_prediction, average='macro')\n",
    "extra_tree_recall = recall_score(test_dataset.y, extra_tree_processed_prediction, average='macro')\n",
    "extra_tree_accuracy = accuracy_score(test_dataset.y, extra_tree_processed_prediction)\n",
    "\n",
    "print(\"Precision:\", extra_tree_precision)\n",
    "print(\" Recall:\", extra_tree_recall)\n",
    "print(\"Accuracy:\", extra_tree_accuracy)"
   ]
  },
  {
   "cell_type": "code",
   "execution_count": 1263,
   "metadata": {},
   "outputs": [
    {
     "name": "stdout",
     "output_type": "stream",
     "text": [
      "2023-06-17 15:59:32,314 — INFO — Fitting 7 random models from a space of 7 possible models.\n",
      "2023-06-17 15:59:32,317 — INFO — Fitting model 1/7\n",
      "2023-06-17 15:59:32,319 — INFO — hyperparameters: {'solver': 'auto'}\n",
      "2023-06-17 15:59:32,344 — INFO — Model 1/7, Metric f1_score_macro, Validation set 1: 0.586887\n",
      "2023-06-17 15:59:32,345 — INFO — \tbest_validation_score so far: 0.586887\n",
      "2023-06-17 15:59:32,346 — INFO — Fitting model 2/7\n",
      "2023-06-17 15:59:32,347 — INFO — hyperparameters: {'solver': 'svd'}\n",
      "2023-06-17 15:59:32,385 — INFO — Model 2/7, Metric f1_score_macro, Validation set 2: 0.586887\n",
      "2023-06-17 15:59:32,386 — INFO — \tbest_validation_score so far: 0.586887\n",
      "2023-06-17 15:59:32,388 — INFO — Fitting model 3/7\n",
      "2023-06-17 15:59:32,389 — INFO — hyperparameters: {'solver': 'cholesky'}\n",
      "2023-06-17 15:59:32,417 — INFO — Model 3/7, Metric f1_score_macro, Validation set 3: 0.586887\n",
      "2023-06-17 15:59:32,418 — INFO — \tbest_validation_score so far: 0.586887\n",
      "2023-06-17 15:59:32,420 — INFO — Fitting model 4/7\n",
      "2023-06-17 15:59:32,422 — INFO — hyperparameters: {'solver': 'lsqr'}\n"
     ]
    },
    {
     "name": "stderr",
     "output_type": "stream",
     "text": [
      "/home/joao/anaconda3/envs/SMpercursorPredictor/lib/python3.9/site-packages/sklearn/metrics/_classification.py:1609: UndefinedMetricWarning: F-score is ill-defined and being set to 0.0 in labels with no true nor predicted samples. Use `zero_division` parameter to control this behavior.\n",
      "  _warn_prf(average, \"true nor predicted\", \"F-score is\", len(true_sum))\n",
      "/home/joao/anaconda3/envs/SMpercursorPredictor/lib/python3.9/site-packages/sklearn/metrics/_classification.py:1609: UndefinedMetricWarning: F-score is ill-defined and being set to 0.0 in labels with no true nor predicted samples. Use `zero_division` parameter to control this behavior.\n",
      "  _warn_prf(average, \"true nor predicted\", \"F-score is\", len(true_sum))\n",
      "/home/joao/anaconda3/envs/SMpercursorPredictor/lib/python3.9/site-packages/sklearn/metrics/_classification.py:1609: UndefinedMetricWarning: F-score is ill-defined and being set to 0.0 in labels with no true nor predicted samples. Use `zero_division` parameter to control this behavior.\n",
      "  _warn_prf(average, \"true nor predicted\", \"F-score is\", len(true_sum))\n"
     ]
    },
    {
     "name": "stdout",
     "output_type": "stream",
     "text": [
      "2023-06-17 15:59:33,027 — INFO — Model 4/7, Metric f1_score_macro, Validation set 4: 0.586887\n",
      "2023-06-17 15:59:33,028 — INFO — \tbest_validation_score so far: 0.586887\n",
      "2023-06-17 15:59:33,030 — INFO — Fitting model 5/7\n",
      "2023-06-17 15:59:33,031 — INFO — hyperparameters: {'solver': 'sparse_cg'}\n"
     ]
    },
    {
     "name": "stderr",
     "output_type": "stream",
     "text": [
      "/home/joao/anaconda3/envs/SMpercursorPredictor/lib/python3.9/site-packages/sklearn/metrics/_classification.py:1609: UndefinedMetricWarning: F-score is ill-defined and being set to 0.0 in labels with no true nor predicted samples. Use `zero_division` parameter to control this behavior.\n",
      "  _warn_prf(average, \"true nor predicted\", \"F-score is\", len(true_sum))\n"
     ]
    },
    {
     "name": "stdout",
     "output_type": "stream",
     "text": [
      "2023-06-17 15:59:34,109 — INFO — Model 5/7, Metric f1_score_macro, Validation set 5: 0.586887\n",
      "2023-06-17 15:59:34,114 — INFO — \tbest_validation_score so far: 0.586887\n",
      "2023-06-17 15:59:34,116 — INFO — Fitting model 6/7\n",
      "2023-06-17 15:59:34,120 — INFO — hyperparameters: {'solver': 'sag'}\n"
     ]
    },
    {
     "name": "stderr",
     "output_type": "stream",
     "text": [
      "/home/joao/anaconda3/envs/SMpercursorPredictor/lib/python3.9/site-packages/sklearn/metrics/_classification.py:1609: UndefinedMetricWarning: F-score is ill-defined and being set to 0.0 in labels with no true nor predicted samples. Use `zero_division` parameter to control this behavior.\n",
      "  _warn_prf(average, \"true nor predicted\", \"F-score is\", len(true_sum))\n"
     ]
    },
    {
     "name": "stdout",
     "output_type": "stream",
     "text": [
      "2023-06-17 15:59:35,747 — INFO — Model 6/7, Metric f1_score_macro, Validation set 6: 0.586887\n",
      "2023-06-17 15:59:35,748 — INFO — \tbest_validation_score so far: 0.586887\n",
      "2023-06-17 15:59:35,749 — INFO — Fitting model 7/7\n",
      "2023-06-17 15:59:35,751 — INFO — hyperparameters: {'solver': 'saga'}\n"
     ]
    },
    {
     "name": "stderr",
     "output_type": "stream",
     "text": [
      "/home/joao/anaconda3/envs/SMpercursorPredictor/lib/python3.9/site-packages/sklearn/metrics/_classification.py:1609: UndefinedMetricWarning: F-score is ill-defined and being set to 0.0 in labels with no true nor predicted samples. Use `zero_division` parameter to control this behavior.\n",
      "  _warn_prf(average, \"true nor predicted\", \"F-score is\", len(true_sum))\n"
     ]
    },
    {
     "name": "stdout",
     "output_type": "stream",
     "text": [
      "2023-06-17 15:59:40,185 — INFO — Model 7/7, Metric f1_score_macro, Validation set 7: 0.586887\n",
      "2023-06-17 15:59:40,187 — INFO — \tbest_validation_score so far: 0.586887\n",
      "2023-06-17 15:59:40,201 — INFO — Best hyperparameters: {'solver': 'saga'}\n",
      "2023-06-17 15:59:40,203 — INFO — train_score: 0.718392\n",
      "2023-06-17 15:59:40,204 — INFO — validation_score: 0.586887\n"
     ]
    },
    {
     "name": "stderr",
     "output_type": "stream",
     "text": [
      "/home/joao/anaconda3/envs/SMpercursorPredictor/lib/python3.9/site-packages/sklearn/metrics/_classification.py:1609: UndefinedMetricWarning: F-score is ill-defined and being set to 0.0 in labels with no true nor predicted samples. Use `zero_division` parameter to control this behavior.\n",
      "  _warn_prf(average, \"true nor predicted\", \"F-score is\", len(true_sum))\n"
     ]
    }
   ],
   "source": [
    "from sklearn.linear_model import RidgeClassifier\n",
    "from deepmol.metrics import Metric\n",
    "from sklearn.metrics import f1_score\n",
    "from deepmol.parameter_optimization import HyperparameterOptimizerValidation\n",
    "\n",
    "\n",
    "def f1_score_macro(y_true, y_pred):\n",
    "    return f1_score(y_true, y_pred, average='macro')\n",
    "\n",
    "params_dict_svc = {\"solver\": [\"auto\", \"svd\",\"cholesky\",\"lsqr\",\"sparse_cg\",\"sag\",\"saga\"]}\n",
    "optimizer = HyperparameterOptimizerValidation(RidgeClassifier)\n",
    "best_fo, best_hyperparams, all_results = optimizer.hyperparameter_search(train_dataset=train_dataset,\n",
    "                                                                          valid_dataset=validation_dataset,\n",
    "                                                                          metric=Metric(f1_score_macro),\n",
    "                                                                          maximize_metric=True,\n",
    "                                                                          n_iter_search=100,\n",
    "                                                                          params_dict=params_dict_svc,\n",
    "                                                                          model_type=\"sklearn\"\n",
    "                                                                          )"
   ]
  },
  {
   "cell_type": "code",
   "execution_count": 1260,
   "metadata": {},
   "outputs": [
    {
     "data": {
      "image/png": "[encoded data removed]",
      "text/plain": [
       "<Figure size 640x480 with 1 Axes>"
      ]
     },
     "metadata": {},
     "output_type": "display_data"
    }
   ],
   "source": [
    "import pandas as pd\n",
    "import matplotlib.pyplot as plt\n",
    "\n",
    "dataset\n",
    "# Create a DataFrame from the dataset\n",
    "df = pd.DataFrame(dataset)\n",
    "\n",
    "# Exclude 'ids' and 'smiles' columns from sum calculation\n",
    "sum_ones = df.iloc[:, 2:].sum()\n",
    "\n",
    "#modified_labels = sum_ones.index.tolist()\n",
    "#modified_labels[0] = 'New Label'    \n",
    "# Create the plot\n",
    "plt.barh(sum_ones.index, sum_ones.values)\n",
    "\n",
    "# Add labels and title\n",
    "plt.xlabel('Number of Compounds')\n",
    "plt.ylabel('Percursors')\n",
    "plt.title('Number of Compounds for Each Percursor')\n",
    "\n",
    "plt.xticks(rotation=90)\n",
    "# Display the plot\n",
    "plt.show()\n"
   ]
  },
  {
   "cell_type": "code",
   "execution_count": 1261,
   "metadata": {},
   "outputs": [
    {
     "data": {
      "image/png": "[encoded data removed]",
      "text/plain": [
       "<Figure size 640x480 with 1 Axes>"
      ]
     },
     "metadata": {},
     "output_type": "display_data"
    }
   ],
   "source": [
    "\n",
    "import pandas as pd\n",
    "import matplotlib.pyplot as plt\n",
    "\n",
    "dataset\n",
    "# Create a DataFrame from the dataset\n",
    "df = pd.DataFrame(dataset)\n",
    "\n",
    "# Exclude 'ids' and 'smiles' columns from sum calculation\n",
    "sum_ones = df.iloc[:, 2:].sum()\n",
    "\n",
    "\n",
    "modified_labels2 = ['Geranyl diphosphate','Campesterol','Tryptophan','L-Aspartate','L-Valine'\n",
    "                   'Indoleglycerol phosphate','Cholesterol','L-Phenylalanine','L-Lysine','Secologanin'\n",
    "                   'L-Isoleucine','Isopentenyl diphosphate','Dimethylallyl diphosphate','L-Arginine'\n",
    "                   'Geranylgeranyl diphosphate','L-Proline','L-Methionine','Anthranilate','L-Leucine'\n",
    "                   'L-Histidine','Farnesyl diphosphate','L-Tyrosine','L-Alanine']\n",
    "\n",
    "modified_labels = ['Geranyl diphosphate', 'Campesterol', 'Tryptophan', 'L-Aspartate', 'L-Valine',\n",
    "                   'Indoleglycerol phosphate', 'Cholesterol', 'L-Phenylalanine', 'L-Lysine', 'Secologanin',\n",
    "                   'L-Isoleucine', 'Isopentenyl diphosphate', 'Dimethylallyl diphosphate', 'L-Arginine',\n",
    "                   'Geranylgeranyl diphosphate', 'L-Proline', 'L-Methionine', 'Anthranilate', 'L-Leucine',\n",
    "                   'L-Histidine', 'Farnesyl diphosphate', 'L-Tyrosine', 'L-Alanine']\n",
    "   \n",
    "# Create the plot\n",
    "plt.barh(modified_labels, sum_ones.values)\n",
    "\n",
    "# Add labels and title\n",
    "plt.xlabel('Number of Compounds')\n",
    "plt.ylabel('Precursors')\n",
    "plt.title('Number of Compounds for each Precursor')\n",
    "\n",
    "plt.xticks(rotation=90)\n",
    "# Display the plot\n",
    "plt.show()\n",
    "\n"
   ]
  },
  {
   "cell_type": "code",
   "execution_count": 1262,
   "metadata": {},
   "outputs": [
    {
     "name": "stdout",
     "output_type": "stream",
     "text": [
      "23\n",
      "23\n",
      "['Geranyl diphosphate', 'Campesterol', 'Tryptophan', 'L-Aspartate', 'L-Valine', 'Indoleglycerol phosphate', 'Cholesterol', 'L-Phenylalanine', 'L-Lysine', 'Secologanin', 'L-Isoleucine', 'Isopentenyl diphosphate', 'Dimethylallyl diphosphate', 'L-Arginine', 'Geranylgeranyl diphosphate', 'L-Proline', 'L-Methionine', 'Anthranilate', 'L-Leucine', 'L-Histidine', 'Farnesyl diphosphate', 'L-Tyrosine', 'L-Alanine']\n"
     ]
    }
   ],
   "source": [
    "sum_ones = df.iloc[:, 2:].sum()\n",
    "\n",
    "print(len(sum_ones.values))\n",
    "\n",
    "print(len(modified_labels))\n",
    "\n",
    "print(modified_labels)"
   ]
  }
 ],
 "metadata": {
  "kernelspec": {
   "display_name": "Python 3 (ipykernel)",
   "language": "python",
   "name": "python3"
  },
  "language_info": {
   "codemirror_mode": {
    "name": "ipython",
    "version": 3
   },
   "file_extension": ".py",
   "mimetype": "text/x-python",
   "name": "python",
   "nbconvert_exporter": "python",
   "pygments_lexer": "ipython3",
   "version": "3.9.16"
  }
 },
 "nbformat": 4,
 "nbformat_minor": 1
}
